{
  "nbformat": 4,
  "nbformat_minor": 0,
  "metadata": {
    "colab": {
      "name": "modelo_titanic_dio.ipynb",
      "provenance": [],
      "collapsed_sections": [],
      "toc_visible": true,
      "authorship_tag": "ABX9TyOA+eyLGbLUVNe3ESfbniqk",
      "include_colab_link": true
    },
    "kernelspec": {
      "name": "python3",
      "display_name": "Python 3"
    },
    "language_info": {
      "name": "python"
    }
  },
  "cells": [
    {
      "cell_type": "markdown",
      "metadata": {
        "id": "view-in-github",
        "colab_type": "text"
      },
      "source": [
        "<a href=\"https://colab.research.google.com/github/NeyBrito/modelo_titanic_dio/blob/master/modelo_titanic_dio.ipynb\" target=\"_parent\"><img src=\"https://colab.research.google.com/assets/colab-badge.svg\" alt=\"Open In Colab\"/></a>"
      ]
    },
    {
      "cell_type": "markdown",
      "metadata": {
        "id": "I70y-s15uwiQ"
      },
      "source": [
        "**Autor:** Ney Marcos Lopes de Brito\n",
        "\n",
        "**Contato:** ney.brito@etec.sp.gov.br"
      ]
    },
    {
      "cell_type": "markdown",
      "metadata": {
        "id": "UmeT54lF_R2X"
      },
      "source": [
        "![logo-sm-white.png](data:image/png;base64,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)"
      ]
    },
    {
      "cell_type": "markdown",
      "metadata": {
        "id": "8vpJ94eCvkSp"
      },
      "source": [
        "## Dados Titanic\n",
        "\n",
        "www.kaggle.com/"
      ]
    },
    {
      "cell_type": "markdown",
      "metadata": {
        "id": "2I1X-BBKvzD2"
      },
      "source": [
        "## Pacotes Necessarios"
      ]
    },
    {
      "cell_type": "code",
      "metadata": {
        "id": "bJTKGtM9uQ50"
      },
      "source": [
        "import pandas as pd\n",
        "import numpy as np\n",
        "\n",
        "from sklearn.ensemble import RandomForestClassifier\n",
        "from sklearn.model_selection import train_test_split"
      ],
      "execution_count": 2,
      "outputs": []
    },
    {
      "cell_type": "markdown",
      "metadata": {
        "id": "F-MZO5yhv530"
      },
      "source": [
        "## Lendo o Banco de Dados"
      ]
    },
    {
      "cell_type": "code",
      "metadata": {
        "id": "wjzDTNzawIY2"
      },
      "source": [
        "dados = pd.read_csv('/content/train.csv')"
      ],
      "execution_count": 46,
      "outputs": []
    },
    {
      "cell_type": "code",
      "metadata": {
        "colab": {
          "base_uri": "https://localhost:8080/",
          "height": 204
        },
        "id": "lHs7H7qAwg1N",
        "outputId": "761890c8-bb7b-4b01-aa28-2ae160a63fc5"
      },
      "source": [
        "dados.head()"
      ],
      "execution_count": 47,
      "outputs": [
        {
          "output_type": "execute_result",
          "data": {
            "text/html": [
              "<div>\n",
              "<style scoped>\n",
              "    .dataframe tbody tr th:only-of-type {\n",
              "        vertical-align: middle;\n",
              "    }\n",
              "\n",
              "    .dataframe tbody tr th {\n",
              "        vertical-align: top;\n",
              "    }\n",
              "\n",
              "    .dataframe thead th {\n",
              "        text-align: right;\n",
              "    }\n",
              "</style>\n",
              "<table border=\"1\" class=\"dataframe\">\n",
              "  <thead>\n",
              "    <tr style=\"text-align: right;\">\n",
              "      <th></th>\n",
              "      <th>PassengerId</th>\n",
              "      <th>Survived</th>\n",
              "      <th>Pclass</th>\n",
              "      <th>Name</th>\n",
              "      <th>Sex</th>\n",
              "      <th>Age</th>\n",
              "      <th>SibSp</th>\n",
              "      <th>Parch</th>\n",
              "      <th>Ticket</th>\n",
              "      <th>Fare</th>\n",
              "      <th>Cabin</th>\n",
              "      <th>Embarked</th>\n",
              "    </tr>\n",
              "  </thead>\n",
              "  <tbody>\n",
              "    <tr>\n",
              "      <th>0</th>\n",
              "      <td>1</td>\n",
              "      <td>0</td>\n",
              "      <td>3</td>\n",
              "      <td>Braund, Mr. Owen Harris</td>\n",
              "      <td>male</td>\n",
              "      <td>22.0</td>\n",
              "      <td>1</td>\n",
              "      <td>0</td>\n",
              "      <td>A/5 21171</td>\n",
              "      <td>7.2500</td>\n",
              "      <td>NaN</td>\n",
              "      <td>S</td>\n",
              "    </tr>\n",
              "    <tr>\n",
              "      <th>1</th>\n",
              "      <td>2</td>\n",
              "      <td>1</td>\n",
              "      <td>1</td>\n",
              "      <td>Cumings, Mrs. John Bradley (Florence Briggs Th...</td>\n",
              "      <td>female</td>\n",
              "      <td>38.0</td>\n",
              "      <td>1</td>\n",
              "      <td>0</td>\n",
              "      <td>PC 17599</td>\n",
              "      <td>71.2833</td>\n",
              "      <td>C85</td>\n",
              "      <td>C</td>\n",
              "    </tr>\n",
              "    <tr>\n",
              "      <th>2</th>\n",
              "      <td>3</td>\n",
              "      <td>1</td>\n",
              "      <td>3</td>\n",
              "      <td>Heikkinen, Miss. Laina</td>\n",
              "      <td>female</td>\n",
              "      <td>26.0</td>\n",
              "      <td>0</td>\n",
              "      <td>0</td>\n",
              "      <td>STON/O2. 3101282</td>\n",
              "      <td>7.9250</td>\n",
              "      <td>NaN</td>\n",
              "      <td>S</td>\n",
              "    </tr>\n",
              "    <tr>\n",
              "      <th>3</th>\n",
              "      <td>4</td>\n",
              "      <td>1</td>\n",
              "      <td>1</td>\n",
              "      <td>Futrelle, Mrs. Jacques Heath (Lily May Peel)</td>\n",
              "      <td>female</td>\n",
              "      <td>35.0</td>\n",
              "      <td>1</td>\n",
              "      <td>0</td>\n",
              "      <td>113803</td>\n",
              "      <td>53.1000</td>\n",
              "      <td>C123</td>\n",
              "      <td>S</td>\n",
              "    </tr>\n",
              "    <tr>\n",
              "      <th>4</th>\n",
              "      <td>5</td>\n",
              "      <td>0</td>\n",
              "      <td>3</td>\n",
              "      <td>Allen, Mr. William Henry</td>\n",
              "      <td>male</td>\n",
              "      <td>35.0</td>\n",
              "      <td>0</td>\n",
              "      <td>0</td>\n",
              "      <td>373450</td>\n",
              "      <td>8.0500</td>\n",
              "      <td>NaN</td>\n",
              "      <td>S</td>\n",
              "    </tr>\n",
              "  </tbody>\n",
              "</table>\n",
              "</div>"
            ],
            "text/plain": [
              "   PassengerId  Survived  Pclass  ...     Fare Cabin  Embarked\n",
              "0            1         0       3  ...   7.2500   NaN         S\n",
              "1            2         1       1  ...  71.2833   C85         C\n",
              "2            3         1       3  ...   7.9250   NaN         S\n",
              "3            4         1       1  ...  53.1000  C123         S\n",
              "4            5         0       3  ...   8.0500   NaN         S\n",
              "\n",
              "[5 rows x 12 columns]"
            ]
          },
          "metadata": {
            "tags": []
          },
          "execution_count": 47
        }
      ]
    },
    {
      "cell_type": "code",
      "metadata": {
        "id": "kjAw0_NrwmCf"
      },
      "source": [
        "dados = dados.drop(['Name','Ticket','Cabin','Embarked'], axis = 1)"
      ],
      "execution_count": 48,
      "outputs": []
    },
    {
      "cell_type": "code",
      "metadata": {
        "colab": {
          "base_uri": "https://localhost:8080/",
          "height": 204
        },
        "id": "W0A_bRRPxCpX",
        "outputId": "e0b4cc53-ad69-4df8-8c31-b2111521d026"
      },
      "source": [
        "dados.head()"
      ],
      "execution_count": 49,
      "outputs": [
        {
          "output_type": "execute_result",
          "data": {
            "text/html": [
              "<div>\n",
              "<style scoped>\n",
              "    .dataframe tbody tr th:only-of-type {\n",
              "        vertical-align: middle;\n",
              "    }\n",
              "\n",
              "    .dataframe tbody tr th {\n",
              "        vertical-align: top;\n",
              "    }\n",
              "\n",
              "    .dataframe thead th {\n",
              "        text-align: right;\n",
              "    }\n",
              "</style>\n",
              "<table border=\"1\" class=\"dataframe\">\n",
              "  <thead>\n",
              "    <tr style=\"text-align: right;\">\n",
              "      <th></th>\n",
              "      <th>PassengerId</th>\n",
              "      <th>Survived</th>\n",
              "      <th>Pclass</th>\n",
              "      <th>Sex</th>\n",
              "      <th>Age</th>\n",
              "      <th>SibSp</th>\n",
              "      <th>Parch</th>\n",
              "      <th>Fare</th>\n",
              "    </tr>\n",
              "  </thead>\n",
              "  <tbody>\n",
              "    <tr>\n",
              "      <th>0</th>\n",
              "      <td>1</td>\n",
              "      <td>0</td>\n",
              "      <td>3</td>\n",
              "      <td>male</td>\n",
              "      <td>22.0</td>\n",
              "      <td>1</td>\n",
              "      <td>0</td>\n",
              "      <td>7.2500</td>\n",
              "    </tr>\n",
              "    <tr>\n",
              "      <th>1</th>\n",
              "      <td>2</td>\n",
              "      <td>1</td>\n",
              "      <td>1</td>\n",
              "      <td>female</td>\n",
              "      <td>38.0</td>\n",
              "      <td>1</td>\n",
              "      <td>0</td>\n",
              "      <td>71.2833</td>\n",
              "    </tr>\n",
              "    <tr>\n",
              "      <th>2</th>\n",
              "      <td>3</td>\n",
              "      <td>1</td>\n",
              "      <td>3</td>\n",
              "      <td>female</td>\n",
              "      <td>26.0</td>\n",
              "      <td>0</td>\n",
              "      <td>0</td>\n",
              "      <td>7.9250</td>\n",
              "    </tr>\n",
              "    <tr>\n",
              "      <th>3</th>\n",
              "      <td>4</td>\n",
              "      <td>1</td>\n",
              "      <td>1</td>\n",
              "      <td>female</td>\n",
              "      <td>35.0</td>\n",
              "      <td>1</td>\n",
              "      <td>0</td>\n",
              "      <td>53.1000</td>\n",
              "    </tr>\n",
              "    <tr>\n",
              "      <th>4</th>\n",
              "      <td>5</td>\n",
              "      <td>0</td>\n",
              "      <td>3</td>\n",
              "      <td>male</td>\n",
              "      <td>35.0</td>\n",
              "      <td>0</td>\n",
              "      <td>0</td>\n",
              "      <td>8.0500</td>\n",
              "    </tr>\n",
              "  </tbody>\n",
              "</table>\n",
              "</div>"
            ],
            "text/plain": [
              "   PassengerId  Survived  Pclass     Sex   Age  SibSp  Parch     Fare\n",
              "0            1         0       3    male  22.0      1      0   7.2500\n",
              "1            2         1       1  female  38.0      1      0  71.2833\n",
              "2            3         1       3  female  26.0      0      0   7.9250\n",
              "3            4         1       1  female  35.0      1      0  53.1000\n",
              "4            5         0       3    male  35.0      0      0   8.0500"
            ]
          },
          "metadata": {
            "tags": []
          },
          "execution_count": 49
        }
      ]
    },
    {
      "cell_type": "markdown",
      "metadata": {
        "id": "EYX8j8LFwm7n"
      },
      "source": [
        "## Editando Chave Variável Resposta"
      ]
    },
    {
      "cell_type": "code",
      "metadata": {
        "id": "LR1u1WaV07hY"
      },
      "source": [
        "dados = dados.set_index('PassengerId', drop=True, append=False, inplace=False, verify_integrity=False)"
      ],
      "execution_count": 53,
      "outputs": []
    },
    {
      "cell_type": "code",
      "metadata": {
        "id": "apnpiU25xJJy"
      },
      "source": [
        "dados = dados.rename(columns = {'Survived':'Target'}, inplace= False)"
      ],
      "execution_count": 55,
      "outputs": []
    },
    {
      "cell_type": "code",
      "metadata": {
        "colab": {
          "base_uri": "https://localhost:8080/",
          "height": 235
        },
        "id": "5e9ZdJdexgS_",
        "outputId": "543c5d89-9c63-4909-f2b8-bce24f3e298e"
      },
      "source": [
        "dados.head()"
      ],
      "execution_count": 56,
      "outputs": [
        {
          "output_type": "execute_result",
          "data": {
            "text/html": [
              "<div>\n",
              "<style scoped>\n",
              "    .dataframe tbody tr th:only-of-type {\n",
              "        vertical-align: middle;\n",
              "    }\n",
              "\n",
              "    .dataframe tbody tr th {\n",
              "        vertical-align: top;\n",
              "    }\n",
              "\n",
              "    .dataframe thead th {\n",
              "        text-align: right;\n",
              "    }\n",
              "</style>\n",
              "<table border=\"1\" class=\"dataframe\">\n",
              "  <thead>\n",
              "    <tr style=\"text-align: right;\">\n",
              "      <th></th>\n",
              "      <th>Target</th>\n",
              "      <th>Pclass</th>\n",
              "      <th>Sex</th>\n",
              "      <th>Age</th>\n",
              "      <th>SibSp</th>\n",
              "      <th>Parch</th>\n",
              "      <th>Fare</th>\n",
              "    </tr>\n",
              "    <tr>\n",
              "      <th>PassengerId</th>\n",
              "      <th></th>\n",
              "      <th></th>\n",
              "      <th></th>\n",
              "      <th></th>\n",
              "      <th></th>\n",
              "      <th></th>\n",
              "      <th></th>\n",
              "    </tr>\n",
              "  </thead>\n",
              "  <tbody>\n",
              "    <tr>\n",
              "      <th>1</th>\n",
              "      <td>0</td>\n",
              "      <td>3</td>\n",
              "      <td>male</td>\n",
              "      <td>22.0</td>\n",
              "      <td>1</td>\n",
              "      <td>0</td>\n",
              "      <td>7.2500</td>\n",
              "    </tr>\n",
              "    <tr>\n",
              "      <th>2</th>\n",
              "      <td>1</td>\n",
              "      <td>1</td>\n",
              "      <td>female</td>\n",
              "      <td>38.0</td>\n",
              "      <td>1</td>\n",
              "      <td>0</td>\n",
              "      <td>71.2833</td>\n",
              "    </tr>\n",
              "    <tr>\n",
              "      <th>3</th>\n",
              "      <td>1</td>\n",
              "      <td>3</td>\n",
              "      <td>female</td>\n",
              "      <td>26.0</td>\n",
              "      <td>0</td>\n",
              "      <td>0</td>\n",
              "      <td>7.9250</td>\n",
              "    </tr>\n",
              "    <tr>\n",
              "      <th>4</th>\n",
              "      <td>1</td>\n",
              "      <td>1</td>\n",
              "      <td>female</td>\n",
              "      <td>35.0</td>\n",
              "      <td>1</td>\n",
              "      <td>0</td>\n",
              "      <td>53.1000</td>\n",
              "    </tr>\n",
              "    <tr>\n",
              "      <th>5</th>\n",
              "      <td>0</td>\n",
              "      <td>3</td>\n",
              "      <td>male</td>\n",
              "      <td>35.0</td>\n",
              "      <td>0</td>\n",
              "      <td>0</td>\n",
              "      <td>8.0500</td>\n",
              "    </tr>\n",
              "  </tbody>\n",
              "</table>\n",
              "</div>"
            ],
            "text/plain": [
              "             Target  Pclass     Sex   Age  SibSp  Parch     Fare\n",
              "PassengerId                                                     \n",
              "1                 0       3    male  22.0      1      0   7.2500\n",
              "2                 1       1  female  38.0      1      0  71.2833\n",
              "3                 1       3  female  26.0      0      0   7.9250\n",
              "4                 1       1  female  35.0      1      0  53.1000\n",
              "5                 0       3    male  35.0      0      0   8.0500"
            ]
          },
          "metadata": {
            "tags": []
          },
          "execution_count": 56
        }
      ]
    },
    {
      "cell_type": "markdown",
      "metadata": {
        "id": "Ou9Jz_0f6iyT"
      },
      "source": [
        "## Descritiva"
      ]
    },
    {
      "cell_type": "code",
      "metadata": {
        "colab": {
          "base_uri": "https://localhost:8080/",
          "height": 297
        },
        "id": "wsoG4-q16oG1",
        "outputId": "9ff78271-9e4e-4469-9e25-797cc0df54f3"
      },
      "source": [
        "dados.describe()"
      ],
      "execution_count": 57,
      "outputs": [
        {
          "output_type": "execute_result",
          "data": {
            "text/html": [
              "<div>\n",
              "<style scoped>\n",
              "    .dataframe tbody tr th:only-of-type {\n",
              "        vertical-align: middle;\n",
              "    }\n",
              "\n",
              "    .dataframe tbody tr th {\n",
              "        vertical-align: top;\n",
              "    }\n",
              "\n",
              "    .dataframe thead th {\n",
              "        text-align: right;\n",
              "    }\n",
              "</style>\n",
              "<table border=\"1\" class=\"dataframe\">\n",
              "  <thead>\n",
              "    <tr style=\"text-align: right;\">\n",
              "      <th></th>\n",
              "      <th>Target</th>\n",
              "      <th>Pclass</th>\n",
              "      <th>Age</th>\n",
              "      <th>SibSp</th>\n",
              "      <th>Parch</th>\n",
              "      <th>Fare</th>\n",
              "    </tr>\n",
              "  </thead>\n",
              "  <tbody>\n",
              "    <tr>\n",
              "      <th>count</th>\n",
              "      <td>891.000000</td>\n",
              "      <td>891.000000</td>\n",
              "      <td>714.000000</td>\n",
              "      <td>891.000000</td>\n",
              "      <td>891.000000</td>\n",
              "      <td>891.000000</td>\n",
              "    </tr>\n",
              "    <tr>\n",
              "      <th>mean</th>\n",
              "      <td>0.383838</td>\n",
              "      <td>2.308642</td>\n",
              "      <td>29.699118</td>\n",
              "      <td>0.523008</td>\n",
              "      <td>0.381594</td>\n",
              "      <td>32.204208</td>\n",
              "    </tr>\n",
              "    <tr>\n",
              "      <th>std</th>\n",
              "      <td>0.486592</td>\n",
              "      <td>0.836071</td>\n",
              "      <td>14.526497</td>\n",
              "      <td>1.102743</td>\n",
              "      <td>0.806057</td>\n",
              "      <td>49.693429</td>\n",
              "    </tr>\n",
              "    <tr>\n",
              "      <th>min</th>\n",
              "      <td>0.000000</td>\n",
              "      <td>1.000000</td>\n",
              "      <td>0.420000</td>\n",
              "      <td>0.000000</td>\n",
              "      <td>0.000000</td>\n",
              "      <td>0.000000</td>\n",
              "    </tr>\n",
              "    <tr>\n",
              "      <th>25%</th>\n",
              "      <td>0.000000</td>\n",
              "      <td>2.000000</td>\n",
              "      <td>20.125000</td>\n",
              "      <td>0.000000</td>\n",
              "      <td>0.000000</td>\n",
              "      <td>7.910400</td>\n",
              "    </tr>\n",
              "    <tr>\n",
              "      <th>50%</th>\n",
              "      <td>0.000000</td>\n",
              "      <td>3.000000</td>\n",
              "      <td>28.000000</td>\n",
              "      <td>0.000000</td>\n",
              "      <td>0.000000</td>\n",
              "      <td>14.454200</td>\n",
              "    </tr>\n",
              "    <tr>\n",
              "      <th>75%</th>\n",
              "      <td>1.000000</td>\n",
              "      <td>3.000000</td>\n",
              "      <td>38.000000</td>\n",
              "      <td>1.000000</td>\n",
              "      <td>0.000000</td>\n",
              "      <td>31.000000</td>\n",
              "    </tr>\n",
              "    <tr>\n",
              "      <th>max</th>\n",
              "      <td>1.000000</td>\n",
              "      <td>3.000000</td>\n",
              "      <td>80.000000</td>\n",
              "      <td>8.000000</td>\n",
              "      <td>6.000000</td>\n",
              "      <td>512.329200</td>\n",
              "    </tr>\n",
              "  </tbody>\n",
              "</table>\n",
              "</div>"
            ],
            "text/plain": [
              "           Target      Pclass         Age       SibSp       Parch        Fare\n",
              "count  891.000000  891.000000  714.000000  891.000000  891.000000  891.000000\n",
              "mean     0.383838    2.308642   29.699118    0.523008    0.381594   32.204208\n",
              "std      0.486592    0.836071   14.526497    1.102743    0.806057   49.693429\n",
              "min      0.000000    1.000000    0.420000    0.000000    0.000000    0.000000\n",
              "25%      0.000000    2.000000   20.125000    0.000000    0.000000    7.910400\n",
              "50%      0.000000    3.000000   28.000000    0.000000    0.000000   14.454200\n",
              "75%      1.000000    3.000000   38.000000    1.000000    0.000000   31.000000\n",
              "max      1.000000    3.000000   80.000000    8.000000    6.000000  512.329200"
            ]
          },
          "metadata": {
            "tags": []
          },
          "execution_count": 57
        }
      ]
    },
    {
      "cell_type": "code",
      "metadata": {
        "colab": {
          "base_uri": "https://localhost:8080/",
          "height": 173
        },
        "id": "uSLMLVGe6r5C",
        "outputId": "5ea6d6ca-c288-47ad-cbed-3059d750945e"
      },
      "source": [
        "dados.describe(include = ['O'])"
      ],
      "execution_count": 58,
      "outputs": [
        {
          "output_type": "execute_result",
          "data": {
            "text/html": [
              "<div>\n",
              "<style scoped>\n",
              "    .dataframe tbody tr th:only-of-type {\n",
              "        vertical-align: middle;\n",
              "    }\n",
              "\n",
              "    .dataframe tbody tr th {\n",
              "        vertical-align: top;\n",
              "    }\n",
              "\n",
              "    .dataframe thead th {\n",
              "        text-align: right;\n",
              "    }\n",
              "</style>\n",
              "<table border=\"1\" class=\"dataframe\">\n",
              "  <thead>\n",
              "    <tr style=\"text-align: right;\">\n",
              "      <th></th>\n",
              "      <th>Sex</th>\n",
              "    </tr>\n",
              "  </thead>\n",
              "  <tbody>\n",
              "    <tr>\n",
              "      <th>count</th>\n",
              "      <td>891</td>\n",
              "    </tr>\n",
              "    <tr>\n",
              "      <th>unique</th>\n",
              "      <td>2</td>\n",
              "    </tr>\n",
              "    <tr>\n",
              "      <th>top</th>\n",
              "      <td>male</td>\n",
              "    </tr>\n",
              "    <tr>\n",
              "      <th>freq</th>\n",
              "      <td>577</td>\n",
              "    </tr>\n",
              "  </tbody>\n",
              "</table>\n",
              "</div>"
            ],
            "text/plain": [
              "         Sex\n",
              "count    891\n",
              "unique     2\n",
              "top     male\n",
              "freq     577"
            ]
          },
          "metadata": {
            "tags": []
          },
          "execution_count": 58
        }
      ]
    },
    {
      "cell_type": "markdown",
      "metadata": {
        "id": "H8MxzMCM7C8a"
      },
      "source": [
        "## Transformação de Dados"
      ]
    },
    {
      "cell_type": "code",
      "metadata": {
        "id": "igXy3u2W7H6P"
      },
      "source": [
        "dados['Sex_F'] = np.where(dados['Sex'] == 'female', 1, 0)\n",
        "\n",
        "\n",
        "dados['Pclass_1'] = np.where(dados['Pclass'] == 1, 1, 0)\n",
        "dados['Pclass_2'] = np.where(dados['Pclass'] == 2, 1, 0)\n",
        "dados['Pclass_3'] = np.where(dados['Pclass'] == 3, 1, 0)\n"
      ],
      "execution_count": 59,
      "outputs": []
    },
    {
      "cell_type": "code",
      "metadata": {
        "id": "IapvcXa-8P9F"
      },
      "source": [
        "dados = dados.drop(['Pclass', 'Sex'], axis= 1)"
      ],
      "execution_count": 61,
      "outputs": []
    },
    {
      "cell_type": "code",
      "metadata": {
        "colab": {
          "base_uri": "https://localhost:8080/",
          "height": 235
        },
        "id": "GHu6ndMu8YtG",
        "outputId": "b83c8e52-6327-4e05-e600-07b585f6e4c5"
      },
      "source": [
        "dados.head()"
      ],
      "execution_count": 62,
      "outputs": [
        {
          "output_type": "execute_result",
          "data": {
            "text/html": [
              "<div>\n",
              "<style scoped>\n",
              "    .dataframe tbody tr th:only-of-type {\n",
              "        vertical-align: middle;\n",
              "    }\n",
              "\n",
              "    .dataframe tbody tr th {\n",
              "        vertical-align: top;\n",
              "    }\n",
              "\n",
              "    .dataframe thead th {\n",
              "        text-align: right;\n",
              "    }\n",
              "</style>\n",
              "<table border=\"1\" class=\"dataframe\">\n",
              "  <thead>\n",
              "    <tr style=\"text-align: right;\">\n",
              "      <th></th>\n",
              "      <th>Target</th>\n",
              "      <th>Age</th>\n",
              "      <th>SibSp</th>\n",
              "      <th>Parch</th>\n",
              "      <th>Fare</th>\n",
              "      <th>Sex_F</th>\n",
              "      <th>Pclass_1</th>\n",
              "      <th>Pclass_2</th>\n",
              "      <th>Pclass_3</th>\n",
              "    </tr>\n",
              "    <tr>\n",
              "      <th>PassengerId</th>\n",
              "      <th></th>\n",
              "      <th></th>\n",
              "      <th></th>\n",
              "      <th></th>\n",
              "      <th></th>\n",
              "      <th></th>\n",
              "      <th></th>\n",
              "      <th></th>\n",
              "      <th></th>\n",
              "    </tr>\n",
              "  </thead>\n",
              "  <tbody>\n",
              "    <tr>\n",
              "      <th>1</th>\n",
              "      <td>0</td>\n",
              "      <td>22.0</td>\n",
              "      <td>1</td>\n",
              "      <td>0</td>\n",
              "      <td>7.2500</td>\n",
              "      <td>0</td>\n",
              "      <td>0</td>\n",
              "      <td>0</td>\n",
              "      <td>1</td>\n",
              "    </tr>\n",
              "    <tr>\n",
              "      <th>2</th>\n",
              "      <td>1</td>\n",
              "      <td>38.0</td>\n",
              "      <td>1</td>\n",
              "      <td>0</td>\n",
              "      <td>71.2833</td>\n",
              "      <td>1</td>\n",
              "      <td>1</td>\n",
              "      <td>0</td>\n",
              "      <td>0</td>\n",
              "    </tr>\n",
              "    <tr>\n",
              "      <th>3</th>\n",
              "      <td>1</td>\n",
              "      <td>26.0</td>\n",
              "      <td>0</td>\n",
              "      <td>0</td>\n",
              "      <td>7.9250</td>\n",
              "      <td>1</td>\n",
              "      <td>0</td>\n",
              "      <td>0</td>\n",
              "      <td>1</td>\n",
              "    </tr>\n",
              "    <tr>\n",
              "      <th>4</th>\n",
              "      <td>1</td>\n",
              "      <td>35.0</td>\n",
              "      <td>1</td>\n",
              "      <td>0</td>\n",
              "      <td>53.1000</td>\n",
              "      <td>1</td>\n",
              "      <td>1</td>\n",
              "      <td>0</td>\n",
              "      <td>0</td>\n",
              "    </tr>\n",
              "    <tr>\n",
              "      <th>5</th>\n",
              "      <td>0</td>\n",
              "      <td>35.0</td>\n",
              "      <td>0</td>\n",
              "      <td>0</td>\n",
              "      <td>8.0500</td>\n",
              "      <td>0</td>\n",
              "      <td>0</td>\n",
              "      <td>0</td>\n",
              "      <td>1</td>\n",
              "    </tr>\n",
              "  </tbody>\n",
              "</table>\n",
              "</div>"
            ],
            "text/plain": [
              "             Target   Age  SibSp  Parch  ...  Sex_F  Pclass_1  Pclass_2  Pclass_3\n",
              "PassengerId                              ...                                     \n",
              "1                 0  22.0      1      0  ...      0         0         0         1\n",
              "2                 1  38.0      1      0  ...      1         1         0         0\n",
              "3                 1  26.0      0      0  ...      1         0         0         1\n",
              "4                 1  35.0      1      0  ...      1         1         0         0\n",
              "5                 0  35.0      0      0  ...      0         0         0         1\n",
              "\n",
              "[5 rows x 9 columns]"
            ]
          },
          "metadata": {
            "tags": []
          },
          "execution_count": 62
        }
      ]
    },
    {
      "cell_type": "code",
      "metadata": {
        "colab": {
          "base_uri": "https://localhost:8080/"
        },
        "id": "1e9hgDhs88GU",
        "outputId": "2514aa55-458f-4431-c1f3-d02ba5c80aa3"
      },
      "source": [
        "dados.isnull().sum()"
      ],
      "execution_count": 63,
      "outputs": [
        {
          "output_type": "execute_result",
          "data": {
            "text/plain": [
              "Target        0\n",
              "Age         177\n",
              "SibSp         0\n",
              "Parch         0\n",
              "Fare          0\n",
              "Sex_F         0\n",
              "Pclass_1      0\n",
              "Pclass_2      0\n",
              "Pclass_3      0\n",
              "dtype: int64"
            ]
          },
          "metadata": {
            "tags": []
          },
          "execution_count": 63
        }
      ]
    },
    {
      "cell_type": "code",
      "metadata": {
        "id": "DdHGoxcd9AfX"
      },
      "source": [
        "dados.fillna(0, inplace= True)"
      ],
      "execution_count": 64,
      "outputs": []
    },
    {
      "cell_type": "code",
      "metadata": {
        "colab": {
          "base_uri": "https://localhost:8080/"
        },
        "id": "suaXC0Hx9WAT",
        "outputId": "86d7e8d3-bf3b-4716-d612-45428860b0da"
      },
      "source": [
        "dados.isnull().sum()"
      ],
      "execution_count": 65,
      "outputs": [
        {
          "output_type": "execute_result",
          "data": {
            "text/plain": [
              "Target      0\n",
              "Age         0\n",
              "SibSp       0\n",
              "Parch       0\n",
              "Fare        0\n",
              "Sex_F       0\n",
              "Pclass_1    0\n",
              "Pclass_2    0\n",
              "Pclass_3    0\n",
              "dtype: int64"
            ]
          },
          "metadata": {
            "tags": []
          },
          "execution_count": 65
        }
      ]
    },
    {
      "cell_type": "markdown",
      "metadata": {
        "id": "7TTJgMtC9dDx"
      },
      "source": [
        "## Amostragem"
      ]
    },
    {
      "cell_type": "code",
      "metadata": {
        "colab": {
          "base_uri": "https://localhost:8080/"
        },
        "id": "mR2AR-BT9pNA",
        "outputId": "b70d633b-518f-4513-8ef8-093230453b9f"
      },
      "source": [
        "x_train, x_test, y_train, y_test =  train_test_split(dados.drop(['Target'], axis= 1),\n",
        "                                                     dados['Target'],\n",
        "                                                     test_size = 0.3,\n",
        "                                                     random_state = 1234)\n",
        "[{'treino': x_train.shape},\n",
        " {'tese': x_test.shape}]"
      ],
      "execution_count": 67,
      "outputs": [
        {
          "output_type": "execute_result",
          "data": {
            "text/plain": [
              "[{'treino': (623, 8)}, {'tese': (268, 8)}]"
            ]
          },
          "metadata": {
            "tags": []
          },
          "execution_count": 67
        }
      ]
    },
    {
      "cell_type": "markdown",
      "metadata": {
        "id": "SFyOz2qJ-efo"
      },
      "source": [
        "## Modelo"
      ]
    },
    {
      "cell_type": "markdown",
      "metadata": {
        "id": "xLbYbPH2_cY5"
      },
      "source": [
        "![random_forest_logo.png](data:image/png;base64,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)"
      ]
    },
    {
      "cell_type": "code",
      "metadata": {
        "colab": {
          "base_uri": "https://localhost:8080/"
        },
        "id": "hOjL5XWo-6B2",
        "outputId": "c91ff529-4451-486b-f27a-aff606aa4c89"
      },
      "source": [
        "rndforest = RandomForestClassifier(n_estimators= 1000, \n",
        "                                   criterion='gini',\n",
        "                                   max_depth = 5)\n",
        "rndforest.fit(x_train, y_train)"
      ],
      "execution_count": 82,
      "outputs": [
        {
          "output_type": "execute_result",
          "data": {
            "text/plain": [
              "RandomForestClassifier(bootstrap=True, ccp_alpha=0.0, class_weight=None,\n",
              "                       criterion='gini', max_depth=5, max_features='auto',\n",
              "                       max_leaf_nodes=None, max_samples=None,\n",
              "                       min_impurity_decrease=0.0, min_impurity_split=None,\n",
              "                       min_samples_leaf=1, min_samples_split=2,\n",
              "                       min_weight_fraction_leaf=0.0, n_estimators=1000,\n",
              "                       n_jobs=None, oob_score=False, random_state=None,\n",
              "                       verbose=0, warm_start=False)"
            ]
          },
          "metadata": {
            "tags": []
          },
          "execution_count": 82
        }
      ]
    },
    {
      "cell_type": "code",
      "metadata": {
        "id": "AYX9ydGMAAQz"
      },
      "source": [
        "probabilidade = rndforest.predict_proba(dados.drop('Target',axis= 1))[:,1]\n",
        "classificacao = rndforest.predict(dados.drop('Target', axis= 1)   "
      ],
      "execution_count": 85,
      "outputs": []
    },
    {
      "cell_type": "code",
      "metadata": {
        "id": "fruwL1jXAiz9"
      },
      "source": [
        "dados['probabilidade'] = probabilidade\n",
        "dados['classificacao'] = classificacao\n"
      ],
      "execution_count": 80,
      "outputs": []
    },
    {
      "cell_type": "code",
      "metadata": {
        "colab": {
          "base_uri": "https://localhost:8080/",
          "height": 450
        },
        "id": "-cwE1c21BOQ4",
        "outputId": "e0fc67c2-6588-49d1-e78c-73e2abc43e3e"
      },
      "source": [
        "dados"
      ],
      "execution_count": 81,
      "outputs": [
        {
          "output_type": "execute_result",
          "data": {
            "text/html": [
              "<div>\n",
              "<style scoped>\n",
              "    .dataframe tbody tr th:only-of-type {\n",
              "        vertical-align: middle;\n",
              "    }\n",
              "\n",
              "    .dataframe tbody tr th {\n",
              "        vertical-align: top;\n",
              "    }\n",
              "\n",
              "    .dataframe thead th {\n",
              "        text-align: right;\n",
              "    }\n",
              "</style>\n",
              "<table border=\"1\" class=\"dataframe\">\n",
              "  <thead>\n",
              "    <tr style=\"text-align: right;\">\n",
              "      <th></th>\n",
              "      <th>Target</th>\n",
              "      <th>Age</th>\n",
              "      <th>SibSp</th>\n",
              "      <th>Parch</th>\n",
              "      <th>Fare</th>\n",
              "      <th>Sex_F</th>\n",
              "      <th>Pclass_1</th>\n",
              "      <th>Pclass_2</th>\n",
              "      <th>Pclass_3</th>\n",
              "      <th>probabilidade</th>\n",
              "      <th>classificacao</th>\n",
              "    </tr>\n",
              "    <tr>\n",
              "      <th>PassengerId</th>\n",
              "      <th></th>\n",
              "      <th></th>\n",
              "      <th></th>\n",
              "      <th></th>\n",
              "      <th></th>\n",
              "      <th></th>\n",
              "      <th></th>\n",
              "      <th></th>\n",
              "      <th></th>\n",
              "      <th></th>\n",
              "      <th></th>\n",
              "    </tr>\n",
              "  </thead>\n",
              "  <tbody>\n",
              "    <tr>\n",
              "      <th>1</th>\n",
              "      <td>0</td>\n",
              "      <td>22.0</td>\n",
              "      <td>1</td>\n",
              "      <td>0</td>\n",
              "      <td>7.2500</td>\n",
              "      <td>0</td>\n",
              "      <td>0</td>\n",
              "      <td>0</td>\n",
              "      <td>1</td>\n",
              "      <td>0.122199</td>\n",
              "      <td>0</td>\n",
              "    </tr>\n",
              "    <tr>\n",
              "      <th>2</th>\n",
              "      <td>1</td>\n",
              "      <td>38.0</td>\n",
              "      <td>1</td>\n",
              "      <td>0</td>\n",
              "      <td>71.2833</td>\n",
              "      <td>1</td>\n",
              "      <td>1</td>\n",
              "      <td>0</td>\n",
              "      <td>0</td>\n",
              "      <td>0.934316</td>\n",
              "      <td>1</td>\n",
              "    </tr>\n",
              "    <tr>\n",
              "      <th>3</th>\n",
              "      <td>1</td>\n",
              "      <td>26.0</td>\n",
              "      <td>0</td>\n",
              "      <td>0</td>\n",
              "      <td>7.9250</td>\n",
              "      <td>1</td>\n",
              "      <td>0</td>\n",
              "      <td>0</td>\n",
              "      <td>1</td>\n",
              "      <td>0.444926</td>\n",
              "      <td>0</td>\n",
              "    </tr>\n",
              "    <tr>\n",
              "      <th>4</th>\n",
              "      <td>1</td>\n",
              "      <td>35.0</td>\n",
              "      <td>1</td>\n",
              "      <td>0</td>\n",
              "      <td>53.1000</td>\n",
              "      <td>1</td>\n",
              "      <td>1</td>\n",
              "      <td>0</td>\n",
              "      <td>0</td>\n",
              "      <td>0.917347</td>\n",
              "      <td>1</td>\n",
              "    </tr>\n",
              "    <tr>\n",
              "      <th>5</th>\n",
              "      <td>0</td>\n",
              "      <td>35.0</td>\n",
              "      <td>0</td>\n",
              "      <td>0</td>\n",
              "      <td>8.0500</td>\n",
              "      <td>0</td>\n",
              "      <td>0</td>\n",
              "      <td>0</td>\n",
              "      <td>1</td>\n",
              "      <td>0.140937</td>\n",
              "      <td>0</td>\n",
              "    </tr>\n",
              "    <tr>\n",
              "      <th>...</th>\n",
              "      <td>...</td>\n",
              "      <td>...</td>\n",
              "      <td>...</td>\n",
              "      <td>...</td>\n",
              "      <td>...</td>\n",
              "      <td>...</td>\n",
              "      <td>...</td>\n",
              "      <td>...</td>\n",
              "      <td>...</td>\n",
              "      <td>...</td>\n",
              "      <td>...</td>\n",
              "    </tr>\n",
              "    <tr>\n",
              "      <th>887</th>\n",
              "      <td>0</td>\n",
              "      <td>27.0</td>\n",
              "      <td>0</td>\n",
              "      <td>0</td>\n",
              "      <td>13.0000</td>\n",
              "      <td>0</td>\n",
              "      <td>0</td>\n",
              "      <td>1</td>\n",
              "      <td>0</td>\n",
              "      <td>0.129920</td>\n",
              "      <td>0</td>\n",
              "    </tr>\n",
              "    <tr>\n",
              "      <th>888</th>\n",
              "      <td>1</td>\n",
              "      <td>19.0</td>\n",
              "      <td>0</td>\n",
              "      <td>0</td>\n",
              "      <td>30.0000</td>\n",
              "      <td>1</td>\n",
              "      <td>1</td>\n",
              "      <td>0</td>\n",
              "      <td>0</td>\n",
              "      <td>0.853180</td>\n",
              "      <td>1</td>\n",
              "    </tr>\n",
              "    <tr>\n",
              "      <th>889</th>\n",
              "      <td>0</td>\n",
              "      <td>0.0</td>\n",
              "      <td>1</td>\n",
              "      <td>2</td>\n",
              "      <td>23.4500</td>\n",
              "      <td>1</td>\n",
              "      <td>0</td>\n",
              "      <td>0</td>\n",
              "      <td>1</td>\n",
              "      <td>0.493140</td>\n",
              "      <td>0</td>\n",
              "    </tr>\n",
              "    <tr>\n",
              "      <th>890</th>\n",
              "      <td>1</td>\n",
              "      <td>26.0</td>\n",
              "      <td>0</td>\n",
              "      <td>0</td>\n",
              "      <td>30.0000</td>\n",
              "      <td>0</td>\n",
              "      <td>1</td>\n",
              "      <td>0</td>\n",
              "      <td>0</td>\n",
              "      <td>0.465169</td>\n",
              "      <td>0</td>\n",
              "    </tr>\n",
              "    <tr>\n",
              "      <th>891</th>\n",
              "      <td>0</td>\n",
              "      <td>32.0</td>\n",
              "      <td>0</td>\n",
              "      <td>0</td>\n",
              "      <td>7.7500</td>\n",
              "      <td>0</td>\n",
              "      <td>0</td>\n",
              "      <td>0</td>\n",
              "      <td>1</td>\n",
              "      <td>0.160463</td>\n",
              "      <td>0</td>\n",
              "    </tr>\n",
              "  </tbody>\n",
              "</table>\n",
              "<p>891 rows × 11 columns</p>\n",
              "</div>"
            ],
            "text/plain": [
              "             Target   Age  SibSp  ...  Pclass_3  probabilidade  classificacao\n",
              "PassengerId                       ...                                        \n",
              "1                 0  22.0      1  ...         1       0.122199              0\n",
              "2                 1  38.0      1  ...         0       0.934316              1\n",
              "3                 1  26.0      0  ...         1       0.444926              0\n",
              "4                 1  35.0      1  ...         0       0.917347              1\n",
              "5                 0  35.0      0  ...         1       0.140937              0\n",
              "...             ...   ...    ...  ...       ...            ...            ...\n",
              "887               0  27.0      0  ...         0       0.129920              0\n",
              "888               1  19.0      0  ...         0       0.853180              1\n",
              "889               0   0.0      1  ...         1       0.493140              0\n",
              "890               1  26.0      0  ...         0       0.465169              0\n",
              "891               0  32.0      0  ...         1       0.160463              0\n",
              "\n",
              "[891 rows x 11 columns]"
            ]
          },
          "metadata": {
            "tags": []
          },
          "execution_count": 81
        }
      ]
    },
    {
      "cell_type": "markdown",
      "metadata": {
        "id": "ZN-LHxv3D5Kk"
      },
      "source": [
        "**Autor:** Ney Marcos Lopes de Brito\n",
        "\n",
        "**Contato:** ney.brito@etec.sp.gov.br\n",
        "\n",
        "![logo-sm-white.png](data:image/png;base64,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)"
      ]
    }
  ]
}